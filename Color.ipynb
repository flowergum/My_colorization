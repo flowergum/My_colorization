{
  "nbformat": 4,
  "nbformat_minor": 0,
  "metadata": {
    "colab": {
      "name": "Color",
      "provenance": [],
      "collapsed_sections": [
        "-XPAYfbu4VLs"
      ],
      "toc_visible": true,
      "include_colab_link": true
    },
    "kernelspec": {
      "display_name": "Python 3",
      "name": "python3"
    },
    "accelerator": "GPU"
  },
  "cells": [
    {
      "cell_type": "markdown",
      "metadata": {
        "id": "view-in-github",
        "colab_type": "text"
      },
      "source": [
        "<a href=\"https://colab.research.google.com/github/flowergum/My_colorization/blob/main/Color.ipynb\" target=\"_parent\"><img src=\"https://colab.research.google.com/assets/colab-badge.svg\" alt=\"Open In Colab\"/></a>"
      ]
    },
    {
      "cell_type": "markdown",
      "metadata": {
        "id": "2RWb_Qaa2jc9"
      },
      "source": [
        "# Восстановление цвета чёрно-белых изображений"
      ]
    },
    {
      "cell_type": "markdown",
      "metadata": {
        "id": "eoaypyoY2pEa"
      },
      "source": [
        "### Импорты и настройки"
      ]
    },
    {
      "cell_type": "code",
      "metadata": {
        "id": "HF9pPCQMUYzC"
      },
      "source": [
        "from tensorflow.keras.models import Sequential, Model\n",
        "from tensorflow.keras.layers import Conv2D, \\\n",
        "                                    Dense, \\\n",
        "                                    MaxPool2D,\\\n",
        "                                    Dropout, \\\n",
        "                                    Flatten, \\\n",
        "                                    BatchNormalization, InputLayer, UpSampling2D\n",
        "from tensorflow.keras.preprocessing.image import ImageDataGenerator, load_img, img_to_array, array_to_img\n",
        "from skimage.color import rgb2lab, lab2rgb\n",
        "from skimage.io import imsave\n",
        "from google.colab import files\n",
        "from io import BytesIO\n",
        "import glob\n",
        "import zipfile\n",
        "import os\n",
        "from PIL import Image\n",
        "import matplotlib.pyplot as plt\n",
        "import cv2\n",
        "import os\n",
        "import shutil\n",
        "import tensorflow as tf\n",
        "import tensorboard as tb\n",
        "import torch\n",
        "import math\n",
        "import numpy as np\n",
        "from torch import nn\n",
        "from torch.utils.data import DataLoader\n",
        "from torch.nn import RNN, LSTM\n",
        "import torchvision\n",
        "from torchvision.datasets import MNIST, CIFAR10\n",
        "from torchvision import transforms\n",
        "from tqdm.notebook import tqdm\n",
        "from torch.nn import init\n",
        "from torchsummary import summary\n",
        "from torch.utils.tensorboard import SummaryWriter\n",
        "import matplotlib.pyplot as plt"
      ],
      "execution_count": 1,
      "outputs": []
    },
    {
      "cell_type": "code",
      "metadata": {
        "colab": {
          "base_uri": "https://localhost:8080/"
        },
        "id": "f56DAfC-dX0J",
        "outputId": "13fca276-953d-4175-9233-9a66fe64e4b4"
      },
      "source": [
        "from google.colab import drive\n",
        "drive.mount('/content/drive')"
      ],
      "execution_count": 2,
      "outputs": [
        {
          "output_type": "stream",
          "text": [
            "Mounted at /content/drive\n"
          ],
          "name": "stdout"
        }
      ]
    },
    {
      "cell_type": "code",
      "metadata": {
        "id": "hh6QDUZd2THs",
        "colab": {
          "base_uri": "https://localhost:8080/"
        },
        "outputId": "d1f9c9f3-8a52-4f2a-8c6a-be20b6228c6c"
      },
      "source": [
        "gpus = tf.config.experimental.list_physical_devices('GPU')\n",
        "if gpus:\n",
        "  try:\n",
        "    # Currently, memory growth needs to be the same across GPUs\n",
        "    for gpu in gpus:\n",
        "      tf.config.experimental.set_memory_growth(gpu, True)\n",
        "    logical_gpus = tf.config.experimental.list_logical_devices('GPU')\n",
        "    print(len(gpus), \"Physical GPUs,\", len(logical_gpus), \"Logical GPUs\")\n",
        "  except RuntimeError as e:\n",
        "    # Memory growth must be set before GPUs have been initialized\n",
        "    print(e)"
      ],
      "execution_count": 3,
      "outputs": [
        {
          "output_type": "stream",
          "text": [
            "1 Physical GPUs, 1 Logical GPUs\n"
          ],
          "name": "stdout"
        }
      ]
    },
    {
      "cell_type": "markdown",
      "metadata": {
        "id": "XUu0yTHI25dU"
      },
      "source": [
        "### Загрузка датасета"
      ]
    },
    {
      "cell_type": "code",
      "metadata": {
        "id": "qCYtFQB5yOan"
      },
      "source": [
        "#скачиваем и распаковываем .zip файл с изображениями для train, делать 1 раз\n",
        "z = zipfile.ZipFile('/content/drive/MyDrive/Colorization/zip/train.zip', 'r')\n",
        "img = z.extractall()"
      ],
      "execution_count": 4,
      "outputs": []
    },
    {
      "cell_type": "code",
      "metadata": {
        "id": "CEK5P9_3Fjk7"
      },
      "source": [
        "#скачиваем и распаковываем .zip файл с изображениями для test, делать 1 раз\n",
        "z = zipfile.ZipFile('/content/drive/MyDrive/Colorization/zip/test.zip', 'r')\n",
        "img = z.extractall()"
      ],
      "execution_count": 6,
      "outputs": []
    },
    {
      "cell_type": "code",
      "metadata": {
        "id": "R_dRnuOJ76Br"
      },
      "source": [
        "#Посчитанные отдельно среднее значение и стандартное отклонение\n",
        "mean_a = -1.1600414744678562\n",
        "std_a = 8.186355078077268\n",
        "mean_b = 0.13165360980751917\n",
        "std_b = 16.993361951392266"
      ],
      "execution_count": 7,
      "outputs": []
    },
    {
      "cell_type": "markdown",
      "metadata": {
        "id": "K-M7RZby2uOy"
      },
      "source": [
        "### Создание генератора датасета"
      ]
    },
    {
      "cell_type": "code",
      "metadata": {
        "id": "rmNreHzNAWfr"
      },
      "source": [
        "def batch_gen(path):\n",
        "    fileList = os.listdir(path)\n",
        "    for filepath in fileList:\n",
        "        img = cv2.imread(path + \"/\" + filepath)\n",
        "        img = cv2.cvtColor(img, cv2.COLOR_BGR2RGB)\n",
        "        # processed image\n",
        "        image = Image.fromarray(np.uint8(img)).resize((128, 128))\n",
        "        image = np.array(image, dtype=float)\n",
        "        lab = rgb2lab(1.0/255*image)\n",
        "        X, Y = lab[:,:,0], lab[:,:,1:]\n",
        "        Y[:,:,0] = (Y[:,:,0] - mean_a) / std_a\n",
        "        Y[:,:,1] = (Y[:,:,1] - mean_b) / std_b\n",
        "        X = X.reshape(image.shape[0], image.shape[1], 1)\n",
        "        Y = Y.reshape(image.shape[0], image.shape[1], 2)\n",
        "        yield X, Y                                    \n",
        "\n",
        "def dataset_gen(path, epochs, batch_size):\n",
        "    dataset = tf.data.Dataset.from_generator(lambda: batch_gen(path),\n",
        "                                             output_types=(tf.float64, tf.float64))  #тут формируем датасет\n",
        "    dataset = dataset.repeat(epochs)          #повторяем датасет нужное число раз; н-р, epochs = 2: [1, 2, 3] --> [1, 2, 3, 1, 2, 3]\n",
        "    dataset = dataset.batch(batch_size)       #формирует пакеты по batch_size штук в каждом\n",
        "    return dataset\n"
      ],
      "execution_count": 8,
      "outputs": []
    },
    {
      "cell_type": "markdown",
      "metadata": {
        "id": "SHqcQBw3HZmW"
      },
      "source": [
        "### Создание тестовой выборки"
      ]
    },
    {
      "cell_type": "code",
      "metadata": {
        "id": "AEy9rmCaHbOd"
      },
      "source": [
        "def processed_image(img):    \n",
        "  img = np.array(img, dtype=float)\n",
        "  image = Image.fromarray(np.uint8(img)).resize((128, 128))\n",
        "  image = np.array(image, dtype=float)   \n",
        "  size = image.shape\n",
        "  lab = rgb2lab(1.0/255*image)                \n",
        "  X, Y = lab[:,:,0], lab[:,:,1:]    \n",
        "            \n",
        "  Y[:,:,0] = (Y[:,:,0] - mean_a) / std_a\n",
        "  Y[:,:,1] = (Y[:,:,1] - mean_b) / std_b  \n",
        "\n",
        "\n",
        "  X = X.reshape(size[0], size[1], 1)\n",
        "  Y = Y.reshape(size[0], size[1], 2)\n",
        "  del size\n",
        "  return X, Y"
      ],
      "execution_count": 9,
      "outputs": []
    },
    {
      "cell_type": "code",
      "metadata": {
        "id": "iJryEuXdHnJ3",
        "colab": {
          "base_uri": "https://localhost:8080/"
        },
        "outputId": "839ac70a-5c4a-4ffd-f2c7-d416b072b55a"
      },
      "source": [
        "import cv2\n",
        "list_x = []\n",
        "list_y = []\n",
        "j = 0\n",
        "#путь к папке с распакованными изображениями\n",
        "path = '/content/test'\n",
        "fileList = os.listdir(path)\n",
        "for i in fileList:\n",
        "   file_ = cv2.imread(('/content/test/' + i))\n",
        "   file_ = cv2.cvtColor(file_, cv2.COLOR_BGR2RGB)\n",
        "   X, Y = processed_image(file_)\n",
        "   if X.shape == (128, 128, 1) and Y.shape == (128, 128, 2):\n",
        "      list_x.append(X)\n",
        "      list_y.append(Y)\n",
        "   else:\n",
        "      print('Size')\n",
        "   j += 1\n",
        "   if j > 7000:\n",
        "      break\n",
        "\n",
        "list_x = np.array(list_x)\n",
        "list_y = np.array(list_y)\n",
        "print(list_x.shape, list_y.shape)"
      ],
      "execution_count": 11,
      "outputs": [
        {
          "output_type": "stream",
          "text": [
            "(1436, 128, 128, 1) (1436, 128, 128, 2)\n"
          ],
          "name": "stdout"
        }
      ]
    },
    {
      "cell_type": "markdown",
      "metadata": {
        "id": "Ta8PPIJb4JM7"
      },
      "source": [
        "### Создание модели"
      ]
    },
    {
      "cell_type": "code",
      "metadata": {
        "id": "7K1U73jGz5_-",
        "colab": {
          "base_uri": "https://localhost:8080/"
        },
        "outputId": "4f97ab8b-3558-40ee-ad15-3c9d9d34ca5d"
      },
      "source": [
        "model = Sequential()                                                      # Последовательная\n",
        "model.add(InputLayer(input_shape=(None, None, 1)))                        # Входной слой, подаем на вход яркостную компоненту\n",
        "model.add(Conv2D(64, (3, 3), activation='relu', padding='same'))          # Свертка, 64 фильтра\n",
        "model.add(MaxPool2D(pool_size=(2, 2)))\n",
        "model.add(Conv2D(128, (3, 3), activation='relu', padding='same'))\n",
        "model.add(MaxPool2D(pool_size=(2, 2)))\n",
        "model.add(Conv2D(256, (3, 3), activation='relu', padding='same'))\n",
        "model.add(MaxPool2D(pool_size=(2, 2)))\n",
        "model.add(Conv2D(512, (3, 3), activation='relu', padding='same'))\n",
        "model.add(Conv2D(256, (3, 3), activation='relu', padding='same'))\n",
        "model.add(Conv2D(128, (3, 3), activation='relu', padding='same'))\n",
        "model.add(UpSampling2D((2, 2)))\n",
        "model.add(Conv2D(64, (3, 3), activation='relu', padding='same'))\n",
        "model.add(UpSampling2D((2, 2)))\n",
        "model.add(Conv2D(32, (3, 3), activation='relu', padding='same'))\n",
        "model.add(Conv2D(2, (3, 3), activation='tanh', padding='same'))\n",
        "model.add(UpSampling2D((2, 2)))\n",
        "\n",
        "model.compile(optimizer='adam', loss='mse')\n",
        "\n",
        "model.summary()"
      ],
      "execution_count": 12,
      "outputs": [
        {
          "output_type": "stream",
          "text": [
            "Model: \"sequential\"\n",
            "_________________________________________________________________\n",
            "Layer (type)                 Output Shape              Param #   \n",
            "=================================================================\n",
            "conv2d (Conv2D)              (None, None, None, 64)    640       \n",
            "_________________________________________________________________\n",
            "max_pooling2d (MaxPooling2D) (None, None, None, 64)    0         \n",
            "_________________________________________________________________\n",
            "conv2d_1 (Conv2D)            (None, None, None, 128)   73856     \n",
            "_________________________________________________________________\n",
            "max_pooling2d_1 (MaxPooling2 (None, None, None, 128)   0         \n",
            "_________________________________________________________________\n",
            "conv2d_2 (Conv2D)            (None, None, None, 256)   295168    \n",
            "_________________________________________________________________\n",
            "max_pooling2d_2 (MaxPooling2 (None, None, None, 256)   0         \n",
            "_________________________________________________________________\n",
            "conv2d_3 (Conv2D)            (None, None, None, 512)   1180160   \n",
            "_________________________________________________________________\n",
            "conv2d_4 (Conv2D)            (None, None, None, 256)   1179904   \n",
            "_________________________________________________________________\n",
            "conv2d_5 (Conv2D)            (None, None, None, 128)   295040    \n",
            "_________________________________________________________________\n",
            "up_sampling2d (UpSampling2D) (None, None, None, 128)   0         \n",
            "_________________________________________________________________\n",
            "conv2d_6 (Conv2D)            (None, None, None, 64)    73792     \n",
            "_________________________________________________________________\n",
            "up_sampling2d_1 (UpSampling2 (None, None, None, 64)    0         \n",
            "_________________________________________________________________\n",
            "conv2d_7 (Conv2D)            (None, None, None, 32)    18464     \n",
            "_________________________________________________________________\n",
            "conv2d_8 (Conv2D)            (None, None, None, 2)     578       \n",
            "_________________________________________________________________\n",
            "up_sampling2d_2 (UpSampling2 (None, None, None, 2)     0         \n",
            "=================================================================\n",
            "Total params: 3,117,602\n",
            "Trainable params: 3,117,602\n",
            "Non-trainable params: 0\n",
            "_________________________________________________________________\n"
          ],
          "name": "stdout"
        }
      ]
    },
    {
      "cell_type": "markdown",
      "metadata": {
        "id": "ayRh35Pn4cES"
      },
      "source": [
        "### Обучение сети"
      ]
    },
    {
      "cell_type": "code",
      "metadata": {
        "id": "z_gakBmac8bM"
      },
      "source": [
        "#model.load_weights(\"drive/MyDrive/Colorization/weights/Landscapes_20_epochs.h5\")     #если нужно подгрузить уже имеющиеся результаты"
      ],
      "execution_count": null,
      "outputs": []
    },
    {
      "cell_type": "code",
      "metadata": {
        "id": "ZylZs3QU-l9O",
        "colab": {
          "base_uri": "https://localhost:8080/"
        },
        "outputId": "bb485b06-c0c7-4015-b57d-15cb24db2898"
      },
      "source": [
        "train_path = '/content/train'\n",
        "test_path = '/content/test'\n",
        "\n",
        "epochs = 15\n",
        "batch_size = 256\n",
        "total_items = len(os.listdir(train_path))\n",
        "num_batches = int(total_items/batch_size)\n",
        "print(f\"batch_size={batch_size}\\nnum_batches = {num_batches}\\ntotal_samples={num_batches*batch_size}\\n{'-'*30}\")\n",
        "\n",
        "dataset = dataset_gen(train_path, epochs, batch_size)\n",
        "\n",
        "history = model.fit(dataset, steps_per_epoch=num_batches, epochs=epochs, validation_data=(list_x, list_y), verbose=1)"
      ],
      "execution_count": 14,
      "outputs": [
        {
          "output_type": "stream",
          "text": [
            "batch_size=256\n",
            "num_batches = 27\n",
            "total_samples=6912\n",
            "------------------------------\n",
            "Epoch 1/15\n",
            "27/27 [==============================] - 107s 2s/step - loss: 1.9336 - val_loss: 1.8154\n",
            "Epoch 2/15\n",
            "27/27 [==============================] - 61s 2s/step - loss: 1.7779 - val_loss: 1.5982\n",
            "Epoch 3/15\n",
            "27/27 [==============================] - 60s 2s/step - loss: 1.5898 - val_loss: 1.5978\n",
            "Epoch 4/15\n",
            "27/27 [==============================] - 61s 2s/step - loss: 1.3841 - val_loss: 1.0525\n",
            "Epoch 5/15\n",
            "27/27 [==============================] - 61s 2s/step - loss: 1.0413 - val_loss: 0.9587\n",
            "Epoch 6/15\n",
            "27/27 [==============================] - 61s 2s/step - loss: 0.9752 - val_loss: 0.9322\n",
            "Epoch 7/15\n",
            "27/27 [==============================] - 61s 2s/step - loss: 0.9563 - val_loss: 0.9280\n",
            "Epoch 8/15\n",
            "27/27 [==============================] - 61s 2s/step - loss: 0.9309 - val_loss: 0.9513\n",
            "Epoch 9/15\n",
            "27/27 [==============================] - 61s 2s/step - loss: 0.9598 - val_loss: 0.8962\n",
            "Epoch 10/15\n",
            "27/27 [==============================] - 60s 2s/step - loss: 0.9131 - val_loss: 0.9109\n",
            "Epoch 11/15\n",
            "27/27 [==============================] - 61s 2s/step - loss: 0.9072 - val_loss: 0.8755\n",
            "Epoch 12/15\n",
            "27/27 [==============================] - 60s 2s/step - loss: 0.8856 - val_loss: 0.8725\n",
            "Epoch 13/15\n",
            "27/27 [==============================] - 60s 2s/step - loss: 0.8857 - val_loss: 0.8538\n",
            "Epoch 14/15\n",
            "27/27 [==============================] - 60s 2s/step - loss: 0.9398 - val_loss: 0.9219\n",
            "Epoch 15/15\n",
            "27/27 [==============================] - 60s 2s/step - loss: 0.9084 - val_loss: 0.8719\n"
          ],
          "name": "stdout"
        }
      ]
    },
    {
      "cell_type": "code",
      "metadata": {
        "id": "wsatSwcbWcOC"
      },
      "source": [
        "model.save_weights(\"drive/MyDrive/Colorization/weights/Landscapes_15_epochs.h5\")"
      ],
      "execution_count": 15,
      "outputs": []
    },
    {
      "cell_type": "markdown",
      "metadata": {
        "id": "_B1M8myZB5ac"
      },
      "source": [
        "#### График"
      ]
    },
    {
      "cell_type": "code",
      "metadata": {
        "id": "QGGgDN4MB3Il",
        "colab": {
          "base_uri": "https://localhost:8080/",
          "height": 606
        },
        "outputId": "71ce9c68-6b66-4034-b582-512883553a74"
      },
      "source": [
        "plt.figure(figsize=(16,10))\n",
        "plt.xlabel('Epochs')\n",
        "plt.ylabel(\"mse\")\n",
        "val = plt.plot(history.epoch, history.history['val_'+'loss'],\n",
        "                   '--', label='Val')\n",
        "plt.plot(history.epoch, history.history[\"loss\"], color=val[0].get_color(),\n",
        "             label='Train')\n",
        "plt.legend()\n",
        "plt.xlim([0, max(history.epoch)])\n",
        "plt.savefig('/content/drive/MyDrive/Colorization/graphs/Landscapes_15_epochs.png')"
      ],
      "execution_count": 16,
      "outputs": [
        {
          "output_type": "display_data",
          "data": {
            "image/png": "[encoded data removed]",
            "text/plain": [
              "<Figure size 1152x720 with 1 Axes>"
            ]
          },
          "metadata": {
            "tags": [],
            "needs_background": "light"
          }
        }
      ]
    },
    {
      "cell_type": "markdown",
      "metadata": {
        "id": "nLlxNwSd0Nli"
      },
      "source": [
        "#### Обратное преобразование и вывод\n"
      ]
    },
    {
      "cell_type": "code",
      "metadata": {
        "colab": {
          "base_uri": "https://localhost:8080/",
          "height": 200
        },
        "id": "rf_pW266aouk",
        "outputId": "b12ec6f7-8234-4e4d-c16a-8b207b474f6d"
      },
      "source": [
        "i = 'LG3'\n",
        "img = Image.open('/content/drive/MyDrive/Colorization/' + str(i) + '.jpg')\n",
        "image = img.resize((1200, 784))\n",
        "imag = np.array(image)\n",
        "size = imag.shape \n",
        "print(size)\n",
        "\n",
        "if len(size) == 3:     #Эта часть использовалась на этапе обучения и определения параметров, чтобы сравнивать цветное исходное изображение и результат работы сети\n",
        "    lab = rgb2lab(1.0/255*imag)                \n",
        "    A, Y = lab[:,:,0], lab[:,:,1:]\n",
        "    X = np.reshape((A), (1, size[0], size[1], 1))\n",
        "    print(X.shape)\n",
        "\n",
        "    output = model.predict(X)\n",
        "    print(output.shape)\n",
        "    output[:,:,:,0] = output[:,:,:,0] * std_a + mean_a\n",
        "    output[:,:,:,1] = output[:,:,:,1] * std_b + mean_b\n",
        "\n",
        "    min_vals, max_vals = -128, 127\n",
        "    ab = np.clip(output[0], min_vals, max_vals)\n",
        "    cur = np.zeros((size[0], size[1], 3))\n",
        "    cur[:,:,0] = np.clip(X[0][:,:,0], 0, 100)\n",
        "    cur[:,:,1:] = ab\n",
        "    rgb = lab2rgb(cur)\n",
        "    plt.subplot(1, 2, 1)\n",
        "    plt.imshow(img)\n",
        "    plt.subplot(1, 2, 2)\n",
        "    plt.imshow(rgb)\n",
        "\n",
        "\n",
        "elif len(size) == 2:     #Эта часть используется для раскраски изначально чб изображений\n",
        "    X = np.reshape((imag), (1, size[0], size[1], 1))\n",
        "    X = X * 100.0 / 255.0\n",
        "    print(X.shape)\n",
        "\n",
        "    output = model.predict(X)\n",
        "    print(output.shape)\n",
        "    output[:,:,:,0] = output[:,:,:,0] * std_a + mean_a\n",
        "    output[:,:,:,1] = output[:,:,:,1] * std_b + mean_b\n",
        "\n",
        "    min_vals, max_vals = -128, 127\n",
        "    ab = np.clip(output[0], min_vals, max_vals)\n",
        "    cur = np.zeros((size[0], size[1], 3))\n",
        "    cur[:,:,0] = np.clip(X[0][:,:,0], 0, 100)\n",
        "    cur[:,:,1:] = ab\n",
        "    rgb = lab2rgb(cur)\n",
        "    plt.subplot(1, 2, 1)\n",
        "    plt.imshow(imag, cmap='gray')\n",
        "    plt.subplot(1, 2, 2)\n",
        "    plt.imshow(rgb)"
      ],
      "execution_count": 17,
      "outputs": [
        {
          "output_type": "stream",
          "text": [
            "(784, 1200)\n",
            "(1, 784, 1200, 1)\n",
            "(1, 784, 1200, 2)\n"
          ],
          "name": "stdout"
        },
        {
          "output_type": "display_data",
          "data": {
            "image/png": "[encoded data removed]",
            "text/plain": [
              "<Figure size 432x288 with 2 Axes>"
            ]
          },
          "metadata": {
            "tags": [],
            "needs_background": "light"
          }
        }
      ]
    },
    {
      "cell_type": "code",
      "metadata": {
        "colab": {
          "base_uri": "https://localhost:8080/"
        },
        "id": "G3ig7wNk5fRH",
        "outputId": "fa56b083-c760-4910-f897-2bd0bdf366cf"
      },
      "source": [
        "print(rgb.shape)\n",
        "result = Image.fromarray((rgb * 255).astype(np.uint8))\n",
        "result.save('/content/drive/MyDrive/Colorization/L3.jpg')"
      ],
      "execution_count": 18,
      "outputs": [
        {
          "output_type": "stream",
          "text": [
            "(784, 1200, 3)\n"
          ],
          "name": "stdout"
        }
      ]
    }
  ]
}